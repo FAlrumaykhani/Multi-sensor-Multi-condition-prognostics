{
 "cells": [
  {
   "cell_type": "code",
   "execution_count": 3,
   "id": "89b6496e-4eff-4707-958d-3c96a640e94a",
   "metadata": {},
   "outputs": [],
   "source": [
    "import numpy as np\n",
    "import pandas as pd"
   ]
  },
  {
   "cell_type": "markdown",
   "id": "cdbc3667-bfd5-41f1-8233-91777cf985cc",
   "metadata": {},
   "source": [
    "# Data Preprocessing"
   ]
  },
  {
   "cell_type": "code",
   "execution_count": 4,
   "id": "88906e17-2a3e-489f-b12d-4230810f79d8",
   "metadata": {},
   "outputs": [],
   "source": [
    "# Reading the dataset\n",
    "data = np.loadtxt(\"train_FD002.txt\")"
   ]
  },
  {
   "cell_type": "code",
   "execution_count": 5,
   "id": "2367067d-d627-4258-b380-d52f55bc63e6",
   "metadata": {},
   "outputs": [],
   "source": [
    "# Preparing the names of the columns\n",
    "\n",
    "sensor_col_name = [\"Sensor \"+str(i) for i in range(1,22)]\n",
    "\n",
    "col_name = [\"unit number\", \"time-cycles\", \"operational setting 1\", \"operational setting 2\",\n",
    "            \"operational setting 3\"] + sensor_col_name"
   ]
  },
  {
   "cell_type": "code",
   "execution_count": 6,
   "id": "bb86376f-901e-40e1-9caf-c7863d8a9bdf",
   "metadata": {},
   "outputs": [],
   "source": [
    "# Converting the array to a dataframe\n",
    "\n",
    "df = pd.DataFrame(data= data, columns= col_name)"
   ]
  },
  {
   "cell_type": "code",
   "execution_count": 8,
   "id": "3dea5696-eaa5-4750-92ae-e77ec89b3589",
   "metadata": {},
   "outputs": [
    {
     "data": {
      "text/plain": [
       "260"
      ]
     },
     "execution_count": 8,
     "metadata": {},
     "output_type": "execute_result"
    }
   ],
   "source": [
    "int(df[\"unit number\"].max())"
   ]
  },
  {
   "cell_type": "raw",
   "id": "9e95237a-2019-41b4-8ae4-cef7586987c3",
   "metadata": {},
   "source": [
    "df.head()"
   ]
  },
  {
   "cell_type": "raw",
   "id": "77e9dc99-6d26-494b-9f64-5c30606c49ad",
   "metadata": {},
   "source": [
    "df.tail(5)"
   ]
  },
  {
   "cell_type": "raw",
   "id": "7fd1bfc7-b356-40ba-ae83-c24cc55db7dc",
   "metadata": {},
   "source": [
    "df.sample(5)"
   ]
  },
  {
   "cell_type": "raw",
   "id": "2595dd4c-483a-4fd1-8076-10be534e20ec",
   "metadata": {},
   "source": [
    "df.info()"
   ]
  },
  {
   "cell_type": "code",
   "execution_count": 7,
   "id": "07425a23-46f6-42e0-a2a8-fa092a8bbb6e",
   "metadata": {},
   "outputs": [],
   "source": [
    "# Converting the column to the corect data type\n",
    "df[\"unit number\"] = df[\"unit number\"].apply(lambda x: int(x))"
   ]
  },
  {
   "cell_type": "code",
   "execution_count": 8,
   "id": "8103d2bc-778b-4a2c-a958-ddcd6a5d0a33",
   "metadata": {},
   "outputs": [],
   "source": [
    "# A function that creates RUL column associated with each observation\n",
    "def create_RUL(df, unit_col, cycle_col, total_units):\n",
    "    \n",
    "    RUL_list = pd.Series(dtype=\"int64\")\n",
    "    for unit_i in range(1, total_units+1):\n",
    "       \n",
    "        df_subset = df[df[unit_col] == unit_i ]\n",
    "        max_cycle = max(df_subset[cycle_col])\n",
    "        \n",
    "        temp =  max_cycle - df_subset[cycle_col]\n",
    "        RUL_list = RUL_list.append(temp)\n",
    "\n",
    "    \n",
    "    return RUL_list"
   ]
  },
  {
   "cell_type": "code",
   "execution_count": 9,
   "id": "d334673c-3980-4879-9d94-822ce2783d69",
   "metadata": {},
   "outputs": [],
   "source": [
    "# Calling the function and adding the column to the dataframe\n",
    "RUL_series = create_RUL(df, unit_col=\"unit number\", cycle_col= \"time-cycles\", total_units=260)\n",
    "\n",
    "df[\"RUL\"] = RUL_series"
   ]
  },
  {
   "cell_type": "code",
   "execution_count": 10,
   "id": "fdd4971c-de29-4e6d-9bf6-b031d1476365",
   "metadata": {},
   "outputs": [],
   "source": [
    "# Converting the column to the corect data type\n",
    "\n",
    "df[\"unit number\"] = df[\"unit number\"].apply(lambda x: int(x))\n",
    "\n",
    "df[\"time-cycles\"] = df[\"time-cycles\"].apply(lambda x: int(x))\n",
    "\n",
    "df[\"operational setting 3\"] = df[\"operational setting 3\"].apply(lambda x: int(x))\n",
    "\n",
    "df[\"RUL\"] = df[\"RUL\"].apply(lambda x: int(x))"
   ]
  },
  {
   "cell_type": "markdown",
   "id": "8535c606-200f-444d-8555-328c43bdbfea",
   "metadata": {},
   "source": [
    "# Data inspection"
   ]
  },
  {
   "cell_type": "code",
   "execution_count": 11,
   "id": "e1d326f1-9a0f-44f5-b58f-a928f44720c8",
   "metadata": {},
   "outputs": [
    {
     "data": {
      "text/html": [
       "<div>\n",
       "<style scoped>\n",
       "    .dataframe tbody tr th:only-of-type {\n",
       "        vertical-align: middle;\n",
       "    }\n",
       "\n",
       "    .dataframe tbody tr th {\n",
       "        vertical-align: top;\n",
       "    }\n",
       "\n",
       "    .dataframe thead th {\n",
       "        text-align: right;\n",
       "    }\n",
       "</style>\n",
       "<table border=\"1\" class=\"dataframe\">\n",
       "  <thead>\n",
       "    <tr style=\"text-align: right;\">\n",
       "      <th></th>\n",
       "      <th>unit number</th>\n",
       "      <th>time-cycles</th>\n",
       "      <th>operational setting 1</th>\n",
       "      <th>operational setting 2</th>\n",
       "      <th>operational setting 3</th>\n",
       "      <th>Sensor 1</th>\n",
       "      <th>Sensor 2</th>\n",
       "      <th>Sensor 3</th>\n",
       "      <th>Sensor 4</th>\n",
       "      <th>Sensor 5</th>\n",
       "      <th>...</th>\n",
       "      <th>Sensor 13</th>\n",
       "      <th>Sensor 14</th>\n",
       "      <th>Sensor 15</th>\n",
       "      <th>Sensor 16</th>\n",
       "      <th>Sensor 17</th>\n",
       "      <th>Sensor 18</th>\n",
       "      <th>Sensor 19</th>\n",
       "      <th>Sensor 20</th>\n",
       "      <th>Sensor 21</th>\n",
       "      <th>RUL</th>\n",
       "    </tr>\n",
       "  </thead>\n",
       "  <tbody>\n",
       "    <tr>\n",
       "      <th>count</th>\n",
       "      <td>53759.000000</td>\n",
       "      <td>53759.000000</td>\n",
       "      <td>53759.000000</td>\n",
       "      <td>53759.000000</td>\n",
       "      <td>53759.000000</td>\n",
       "      <td>53759.000000</td>\n",
       "      <td>53759.000000</td>\n",
       "      <td>53759.000000</td>\n",
       "      <td>53759.000000</td>\n",
       "      <td>53759.000000</td>\n",
       "      <td>...</td>\n",
       "      <td>53759.000000</td>\n",
       "      <td>53759.000000</td>\n",
       "      <td>53759.000000</td>\n",
       "      <td>53759.000000</td>\n",
       "      <td>53759.000000</td>\n",
       "      <td>53759.000000</td>\n",
       "      <td>53759.000000</td>\n",
       "      <td>53759.000000</td>\n",
       "      <td>53759.000000</td>\n",
       "      <td>53759.000000</td>\n",
       "    </tr>\n",
       "    <tr>\n",
       "      <th>mean</th>\n",
       "      <td>131.082981</td>\n",
       "      <td>109.154746</td>\n",
       "      <td>23.998407</td>\n",
       "      <td>0.572056</td>\n",
       "      <td>94.046020</td>\n",
       "      <td>472.910207</td>\n",
       "      <td>579.672399</td>\n",
       "      <td>1419.971013</td>\n",
       "      <td>1205.442024</td>\n",
       "      <td>8.031986</td>\n",
       "      <td>...</td>\n",
       "      <td>2334.557253</td>\n",
       "      <td>8066.597682</td>\n",
       "      <td>9.329654</td>\n",
       "      <td>0.023326</td>\n",
       "      <td>348.309511</td>\n",
       "      <td>2228.806358</td>\n",
       "      <td>97.756838</td>\n",
       "      <td>20.789296</td>\n",
       "      <td>12.473423</td>\n",
       "      <td>108.154746</td>\n",
       "    </tr>\n",
       "    <tr>\n",
       "      <th>std</th>\n",
       "      <td>74.463862</td>\n",
       "      <td>69.180569</td>\n",
       "      <td>14.747376</td>\n",
       "      <td>0.310016</td>\n",
       "      <td>14.237735</td>\n",
       "      <td>26.389707</td>\n",
       "      <td>37.289399</td>\n",
       "      <td>105.946341</td>\n",
       "      <td>119.123428</td>\n",
       "      <td>3.613839</td>\n",
       "      <td>...</td>\n",
       "      <td>128.068271</td>\n",
       "      <td>84.837950</td>\n",
       "      <td>0.749335</td>\n",
       "      <td>0.004711</td>\n",
       "      <td>27.754515</td>\n",
       "      <td>145.327980</td>\n",
       "      <td>5.364067</td>\n",
       "      <td>9.869331</td>\n",
       "      <td>5.921615</td>\n",
       "      <td>69.180569</td>\n",
       "    </tr>\n",
       "    <tr>\n",
       "      <th>min</th>\n",
       "      <td>1.000000</td>\n",
       "      <td>1.000000</td>\n",
       "      <td>0.000000</td>\n",
       "      <td>0.000000</td>\n",
       "      <td>60.000000</td>\n",
       "      <td>445.000000</td>\n",
       "      <td>535.530000</td>\n",
       "      <td>1243.730000</td>\n",
       "      <td>1023.770000</td>\n",
       "      <td>3.910000</td>\n",
       "      <td>...</td>\n",
       "      <td>2027.610000</td>\n",
       "      <td>7848.360000</td>\n",
       "      <td>8.335700</td>\n",
       "      <td>0.020000</td>\n",
       "      <td>303.000000</td>\n",
       "      <td>1915.000000</td>\n",
       "      <td>84.930000</td>\n",
       "      <td>10.180000</td>\n",
       "      <td>6.010500</td>\n",
       "      <td>0.000000</td>\n",
       "    </tr>\n",
       "    <tr>\n",
       "      <th>25%</th>\n",
       "      <td>68.000000</td>\n",
       "      <td>52.000000</td>\n",
       "      <td>10.004600</td>\n",
       "      <td>0.250700</td>\n",
       "      <td>100.000000</td>\n",
       "      <td>445.000000</td>\n",
       "      <td>549.570000</td>\n",
       "      <td>1352.760000</td>\n",
       "      <td>1123.655000</td>\n",
       "      <td>3.910000</td>\n",
       "      <td>...</td>\n",
       "      <td>2387.900000</td>\n",
       "      <td>8062.140000</td>\n",
       "      <td>8.677800</td>\n",
       "      <td>0.020000</td>\n",
       "      <td>331.000000</td>\n",
       "      <td>2212.000000</td>\n",
       "      <td>100.000000</td>\n",
       "      <td>10.910000</td>\n",
       "      <td>6.546300</td>\n",
       "      <td>51.000000</td>\n",
       "    </tr>\n",
       "    <tr>\n",
       "      <th>50%</th>\n",
       "      <td>131.000000</td>\n",
       "      <td>104.000000</td>\n",
       "      <td>25.001300</td>\n",
       "      <td>0.700000</td>\n",
       "      <td>100.000000</td>\n",
       "      <td>462.540000</td>\n",
       "      <td>555.980000</td>\n",
       "      <td>1369.180000</td>\n",
       "      <td>1138.890000</td>\n",
       "      <td>7.050000</td>\n",
       "      <td>...</td>\n",
       "      <td>2388.080000</td>\n",
       "      <td>8082.540000</td>\n",
       "      <td>9.310900</td>\n",
       "      <td>0.020000</td>\n",
       "      <td>335.000000</td>\n",
       "      <td>2223.000000</td>\n",
       "      <td>100.000000</td>\n",
       "      <td>14.880000</td>\n",
       "      <td>8.929200</td>\n",
       "      <td>103.000000</td>\n",
       "    </tr>\n",
       "    <tr>\n",
       "      <th>75%</th>\n",
       "      <td>195.000000</td>\n",
       "      <td>157.000000</td>\n",
       "      <td>41.998000</td>\n",
       "      <td>0.840000</td>\n",
       "      <td>100.000000</td>\n",
       "      <td>491.190000</td>\n",
       "      <td>607.340000</td>\n",
       "      <td>1499.370000</td>\n",
       "      <td>1306.850000</td>\n",
       "      <td>10.520000</td>\n",
       "      <td>...</td>\n",
       "      <td>2388.170000</td>\n",
       "      <td>8127.195000</td>\n",
       "      <td>9.386900</td>\n",
       "      <td>0.030000</td>\n",
       "      <td>369.000000</td>\n",
       "      <td>2324.000000</td>\n",
       "      <td>100.000000</td>\n",
       "      <td>28.470000</td>\n",
       "      <td>17.083200</td>\n",
       "      <td>156.000000</td>\n",
       "    </tr>\n",
       "    <tr>\n",
       "      <th>max</th>\n",
       "      <td>260.000000</td>\n",
       "      <td>378.000000</td>\n",
       "      <td>42.008000</td>\n",
       "      <td>0.842000</td>\n",
       "      <td>100.000000</td>\n",
       "      <td>518.670000</td>\n",
       "      <td>644.520000</td>\n",
       "      <td>1612.880000</td>\n",
       "      <td>1439.230000</td>\n",
       "      <td>14.620000</td>\n",
       "      <td>...</td>\n",
       "      <td>2390.480000</td>\n",
       "      <td>8268.500000</td>\n",
       "      <td>11.066900</td>\n",
       "      <td>0.030000</td>\n",
       "      <td>399.000000</td>\n",
       "      <td>2388.000000</td>\n",
       "      <td>100.000000</td>\n",
       "      <td>39.340000</td>\n",
       "      <td>23.590100</td>\n",
       "      <td>377.000000</td>\n",
       "    </tr>\n",
       "  </tbody>\n",
       "</table>\n",
       "<p>8 rows × 27 columns</p>\n",
       "</div>"
      ],
      "text/plain": [
       "        unit number   time-cycles  operational setting 1  \\\n",
       "count  53759.000000  53759.000000           53759.000000   \n",
       "mean     131.082981    109.154746              23.998407   \n",
       "std       74.463862     69.180569              14.747376   \n",
       "min        1.000000      1.000000               0.000000   \n",
       "25%       68.000000     52.000000              10.004600   \n",
       "50%      131.000000    104.000000              25.001300   \n",
       "75%      195.000000    157.000000              41.998000   \n",
       "max      260.000000    378.000000              42.008000   \n",
       "\n",
       "       operational setting 2  operational setting 3      Sensor 1  \\\n",
       "count           53759.000000           53759.000000  53759.000000   \n",
       "mean                0.572056              94.046020    472.910207   \n",
       "std                 0.310016              14.237735     26.389707   \n",
       "min                 0.000000              60.000000    445.000000   \n",
       "25%                 0.250700             100.000000    445.000000   \n",
       "50%                 0.700000             100.000000    462.540000   \n",
       "75%                 0.840000             100.000000    491.190000   \n",
       "max                 0.842000             100.000000    518.670000   \n",
       "\n",
       "           Sensor 2      Sensor 3      Sensor 4      Sensor 5  ...  \\\n",
       "count  53759.000000  53759.000000  53759.000000  53759.000000  ...   \n",
       "mean     579.672399   1419.971013   1205.442024      8.031986  ...   \n",
       "std       37.289399    105.946341    119.123428      3.613839  ...   \n",
       "min      535.530000   1243.730000   1023.770000      3.910000  ...   \n",
       "25%      549.570000   1352.760000   1123.655000      3.910000  ...   \n",
       "50%      555.980000   1369.180000   1138.890000      7.050000  ...   \n",
       "75%      607.340000   1499.370000   1306.850000     10.520000  ...   \n",
       "max      644.520000   1612.880000   1439.230000     14.620000  ...   \n",
       "\n",
       "          Sensor 13     Sensor 14     Sensor 15     Sensor 16     Sensor 17  \\\n",
       "count  53759.000000  53759.000000  53759.000000  53759.000000  53759.000000   \n",
       "mean    2334.557253   8066.597682      9.329654      0.023326    348.309511   \n",
       "std      128.068271     84.837950      0.749335      0.004711     27.754515   \n",
       "min     2027.610000   7848.360000      8.335700      0.020000    303.000000   \n",
       "25%     2387.900000   8062.140000      8.677800      0.020000    331.000000   \n",
       "50%     2388.080000   8082.540000      9.310900      0.020000    335.000000   \n",
       "75%     2388.170000   8127.195000      9.386900      0.030000    369.000000   \n",
       "max     2390.480000   8268.500000     11.066900      0.030000    399.000000   \n",
       "\n",
       "          Sensor 18     Sensor 19     Sensor 20     Sensor 21           RUL  \n",
       "count  53759.000000  53759.000000  53759.000000  53759.000000  53759.000000  \n",
       "mean    2228.806358     97.756838     20.789296     12.473423    108.154746  \n",
       "std      145.327980      5.364067      9.869331      5.921615     69.180569  \n",
       "min     1915.000000     84.930000     10.180000      6.010500      0.000000  \n",
       "25%     2212.000000    100.000000     10.910000      6.546300     51.000000  \n",
       "50%     2223.000000    100.000000     14.880000      8.929200    103.000000  \n",
       "75%     2324.000000    100.000000     28.470000     17.083200    156.000000  \n",
       "max     2388.000000    100.000000     39.340000     23.590100    377.000000  \n",
       "\n",
       "[8 rows x 27 columns]"
      ]
     },
     "execution_count": 11,
     "metadata": {},
     "output_type": "execute_result"
    }
   ],
   "source": [
    "df.describe()"
   ]
  },
  {
   "cell_type": "code",
   "execution_count": 12,
   "id": "cc41b8d2-fa1e-4cb3-b63c-c78582d32413",
   "metadata": {},
   "outputs": [
    {
     "data": {
      "text/plain": [
       "(53759, 27)"
      ]
     },
     "execution_count": 12,
     "metadata": {},
     "output_type": "execute_result"
    }
   ],
   "source": [
    "df.shape"
   ]
  },
  {
   "cell_type": "code",
   "execution_count": 13,
   "id": "68316896-e048-4161-b99c-130266454b14",
   "metadata": {},
   "outputs": [
    {
     "data": {
      "text/plain": [
       "0"
      ]
     },
     "execution_count": 13,
     "metadata": {},
     "output_type": "execute_result"
    }
   ],
   "source": [
    "df.isna().sum().sum()"
   ]
  },
  {
   "cell_type": "markdown",
   "id": "5c18ead2-4718-4d63-8aba-73fa9b8d713c",
   "metadata": {},
   "source": [
    "## Spliting the data into features and variables"
   ]
  },
  {
   "cell_type": "code",
   "execution_count": 14,
   "id": "e0699324-c25b-469f-80fe-dcf6e983016b",
   "metadata": {},
   "outputs": [
    {
     "data": {
      "text/plain": [
       "Index(['unit number', 'time-cycles', 'operational setting 1',\n",
       "       'operational setting 2', 'operational setting 3', 'Sensor 1',\n",
       "       'Sensor 2', 'Sensor 3', 'Sensor 4', 'Sensor 5', 'Sensor 6', 'Sensor 7',\n",
       "       'Sensor 8', 'Sensor 9', 'Sensor 10', 'Sensor 11', 'Sensor 12',\n",
       "       'Sensor 13', 'Sensor 14', 'Sensor 15', 'Sensor 16', 'Sensor 17',\n",
       "       'Sensor 18', 'Sensor 19', 'Sensor 20', 'Sensor 21', 'RUL'],\n",
       "      dtype='object')"
      ]
     },
     "execution_count": 14,
     "metadata": {},
     "output_type": "execute_result"
    }
   ],
   "source": [
    "df.columns"
   ]
  },
  {
   "cell_type": "code",
   "execution_count": 15,
   "id": "131d2657-5a31-4062-9703-ca14602a6c20",
   "metadata": {},
   "outputs": [],
   "source": [
    "X = df[['operational setting 1',\n",
    "       'operational setting 2', 'operational setting 3', 'Sensor 1',\n",
    "       'Sensor 2', 'Sensor 3', 'Sensor 4', 'Sensor 5', 'Sensor 6', 'Sensor 7',\n",
    "       'Sensor 8', 'Sensor 9', 'Sensor 10', 'Sensor 11', 'Sensor 12',\n",
    "       'Sensor 13', 'Sensor 14', 'Sensor 15', 'Sensor 16', 'Sensor 17',\n",
    "       'Sensor 18', 'Sensor 19', 'Sensor 20', 'Sensor 21',]]\n",
    "\n",
    "y = df[\"RUL\"]"
   ]
  },
  {
   "cell_type": "code",
   "execution_count": 16,
   "id": "cb7a4c1b-8a67-4912-ae6e-311f2f2a9875",
   "metadata": {},
   "outputs": [
    {
     "name": "stdout",
     "output_type": "stream",
     "text": [
      "X shape : (53759, 24), y shape: (53759,)\n"
     ]
    }
   ],
   "source": [
    "print(\"X shape : {}, y shape: {}\".format(X.shape, y.shape))"
   ]
  },
  {
   "cell_type": "markdown",
   "id": "e6d8e634-9d7c-4832-9a91-f5ebb8dc1369",
   "metadata": {},
   "source": [
    "## Test Train split"
   ]
  },
  {
   "cell_type": "code",
   "execution_count": 17,
   "id": "4cd72b1e-2603-4490-87cd-466b5cd140e0",
   "metadata": {},
   "outputs": [],
   "source": [
    "from sklearn.model_selection import train_test_split"
   ]
  },
  {
   "cell_type": "code",
   "execution_count": 18,
   "id": "8534efeb-03ee-44c7-8edd-df5e021634ca",
   "metadata": {},
   "outputs": [],
   "source": [
    "X_train, X_test, y_train, y_test = train_test_split(X, y, test_size=0.33, random_state=42)"
   ]
  },
  {
   "cell_type": "markdown",
   "id": "540b19da-7bf1-4cb5-97a0-5fab91990874",
   "metadata": {},
   "source": [
    "# Machine Learning models\n",
    "\n",
    "In the following blocks of code, different machine learning models will be inspected to predict RUL. \n",
    "\n",
    "- Random Forest Regresson\n",
    "- Support Vector Regression\n",
    "- Elastic Net regression"
   ]
  },
  {
   "cell_type": "markdown",
   "id": "57575d7e-9d4a-4269-b5fc-86bf89e27036",
   "metadata": {},
   "source": [
    "## Random Forest Regression"
   ]
  },
  {
   "cell_type": "code",
   "execution_count": 19,
   "id": "70deafbc-3c0b-452f-a004-371a17a79579",
   "metadata": {},
   "outputs": [],
   "source": [
    "from sklearn.ensemble import RandomForestRegressor"
   ]
  },
  {
   "cell_type": "code",
   "execution_count": 20,
   "id": "d5ee2e60-0573-4405-ac0e-08b92177f47e",
   "metadata": {},
   "outputs": [],
   "source": [
    "rfr = RandomForestRegressor()"
   ]
  },
  {
   "cell_type": "code",
   "execution_count": 21,
   "id": "b17f9af8-113a-4aec-8f5c-ac76f0e141eb",
   "metadata": {},
   "outputs": [
    {
     "data": {
      "text/plain": [
       "RandomForestRegressor()"
      ]
     },
     "execution_count": 21,
     "metadata": {},
     "output_type": "execute_result"
    }
   ],
   "source": [
    "rfr.fit(X_train, y_train)"
   ]
  },
  {
   "cell_type": "code",
   "execution_count": 22,
   "id": "52588bd1-f79a-43f5-bde3-d6522a5aa50e",
   "metadata": {},
   "outputs": [],
   "source": [
    "y_pred = rfr.predict(X_test)"
   ]
  },
  {
   "cell_type": "code",
   "execution_count": 23,
   "id": "748e6ad7-53a2-465b-b751-f41418e585d9",
   "metadata": {},
   "outputs": [],
   "source": [
    "from sklearn.metrics import mean_squared_error\n",
    "from sklearn.metrics import mean_absolute_error"
   ]
  },
  {
   "cell_type": "code",
   "execution_count": 24,
   "id": "45646e88-120d-49bf-928d-5049b5fcb65c",
   "metadata": {},
   "outputs": [
    {
     "name": "stdout",
     "output_type": "stream",
     "text": [
      "RMSE = 43.3479 and MAE = 31.5413\n"
     ]
    }
   ],
   "source": [
    "MSE = mean_squared_error(y_test, y_pred)\n",
    "MAE = mean_absolute_error(y_test, y_pred)\n",
    "\n",
    "print(\"RMSE = {:.4f} and MAE = {:.4f}\".format(np.sqrt(MSE), MAE))"
   ]
  },
  {
   "cell_type": "markdown",
   "id": "7e5ee828-ec76-4e87-92a6-bee9b979d737",
   "metadata": {},
   "source": [
    "### Exploring the features"
   ]
  },
  {
   "cell_type": "code",
   "execution_count": 25,
   "id": "74b9818d-43c4-4f31-8f0a-782cb5fb7229",
   "metadata": {},
   "outputs": [],
   "source": [
    "features_importance = rfr.feature_importances_"
   ]
  },
  {
   "cell_type": "code",
   "execution_count": 26,
   "id": "dbc54fcc-4e14-4109-ac7e-9bb4226b8cb2",
   "metadata": {},
   "outputs": [],
   "source": [
    "import matplotlib.pyplot as plt"
   ]
  },
  {
   "cell_type": "code",
   "execution_count": 48,
   "id": "2a49f23e-1926-49c6-803e-55d72b3e6645",
   "metadata": {},
   "outputs": [
    {
     "data": {
      "image/png": "[encoded data removed]",
      "text/plain": [
       "<Figure size 1800x720 with 1 Axes>"
      ]
     },
     "metadata": {
      "needs_background": "light"
     },
     "output_type": "display_data"
    }
   ],
   "source": [
    "fig = plt.figure(figsize=(25,10))\n",
    "ax = fig.add_subplot(111)\n",
    "ax.bar(x= X.columns ,height= features_importance)\n",
    "plt.ylabel(\"Feature importance\")\n",
    "plt.xlabel(\"Features\")\n",
    "plt.savefig(\"Feature_imporance.png\")\n",
    "plt.show()"
   ]
  },
  {
   "cell_type": "markdown",
   "id": "bed0c2b7-828e-4118-b42b-f662cc7df4e6",
   "metadata": {},
   "source": [
    "From the previos plot we can notice that not all the features are important. We could assume that a better model could be built using random forest regression by chosing better features."
   ]
  },
  {
   "cell_type": "markdown",
   "id": "651bbe6a-2743-470d-9874-be156e70634b",
   "metadata": {},
   "source": [
    "# SVR"
   ]
  },
  {
   "cell_type": "code",
   "execution_count": 28,
   "id": "2123a56e-2798-4e03-97d0-5c3a2c1f3de7",
   "metadata": {},
   "outputs": [],
   "source": [
    "from sklearn.svm import SVR\n",
    "from sklearn.pipeline import make_pipeline\n",
    "from sklearn.preprocessing import StandardScaler"
   ]
  },
  {
   "cell_type": "code",
   "execution_count": 29,
   "id": "feda0e9a-f73f-4375-9cda-d06ccd4f134b",
   "metadata": {},
   "outputs": [],
   "source": [
    "pipl = make_pipeline(StandardScaler(), SVR())"
   ]
  },
  {
   "cell_type": "code",
   "execution_count": 30,
   "id": "034cfd29-aef7-4ca7-b5a3-36075bd47114",
   "metadata": {},
   "outputs": [
    {
     "data": {
      "text/plain": [
       "Pipeline(steps=[('standardscaler', StandardScaler()), ('svr', SVR())])"
      ]
     },
     "execution_count": 30,
     "metadata": {},
     "output_type": "execute_result"
    }
   ],
   "source": [
    "pipl.fit(X_train, y_train)"
   ]
  },
  {
   "cell_type": "code",
   "execution_count": 31,
   "id": "6dfd0fd9-90b8-4d27-9dcc-142110793d75",
   "metadata": {},
   "outputs": [],
   "source": [
    "y_pred = pipl.predict(X_test)"
   ]
  },
  {
   "cell_type": "code",
   "execution_count": 32,
   "id": "650d981c-4ed2-47b2-ab4c-b60a5445047a",
   "metadata": {},
   "outputs": [
    {
     "name": "stdout",
     "output_type": "stream",
     "text": [
      "RMSE = 60.9766 and MAE = 48.4673\n"
     ]
    }
   ],
   "source": [
    "MSE = mean_squared_error(y_test, y_pred)\n",
    "MAE = mean_absolute_error(y_test, y_pred)\n",
    "\n",
    "print(\"RMSE = {:.4f} and MAE = {:.4f}\".format(np.sqrt(MSE), MAE))"
   ]
  },
  {
   "cell_type": "markdown",
   "id": "d47c3547-9b56-4613-8c0e-29489b0d4ac8",
   "metadata": {},
   "source": [
    "# ElasticNet"
   ]
  },
  {
   "cell_type": "code",
   "execution_count": 33,
   "id": "27d4edc9-74a5-44b7-83c8-415ef4f6e86b",
   "metadata": {},
   "outputs": [],
   "source": [
    "from sklearn.linear_model import ElasticNet"
   ]
  },
  {
   "cell_type": "code",
   "execution_count": 38,
   "id": "58619056-b2ac-4c44-af3f-248721b1e15c",
   "metadata": {},
   "outputs": [],
   "source": [
    "regr = make_pipeline(StandardScaler(),\n",
    "                    ElasticNet(random_state=0))"
   ]
  },
  {
   "cell_type": "code",
   "execution_count": 39,
   "id": "1261a9bb-40b5-41a8-8600-9ac1c8ab5417",
   "metadata": {},
   "outputs": [
    {
     "data": {
      "text/plain": [
       "Pipeline(steps=[('standardscaler', StandardScaler()),\n",
       "                ('elasticnet', ElasticNet(random_state=0))])"
      ]
     },
     "execution_count": 39,
     "metadata": {},
     "output_type": "execute_result"
    }
   ],
   "source": [
    "regr.fit(X_train, y_train)"
   ]
  },
  {
   "cell_type": "code",
   "execution_count": 40,
   "id": "91fbfb2b-ebc2-4f9d-8c60-a679bcefbecc",
   "metadata": {},
   "outputs": [],
   "source": [
    "y_hat = regr.predict(X_test)"
   ]
  },
  {
   "cell_type": "code",
   "execution_count": 41,
   "id": "dcb4a6b4-ad7f-447b-b234-66df9f205d42",
   "metadata": {},
   "outputs": [
    {
     "name": "stdout",
     "output_type": "stream",
     "text": [
      "RMSE = 60.9766 and MAE = 48.4673\n"
     ]
    }
   ],
   "source": [
    "MSE = mean_squared_error(y_test, y_pred)\n",
    "MAE = mean_absolute_error(y_test, y_pred)\n",
    "\n",
    "print(\"RMSE = {:.4f} and MAE = {:.4f}\".format(np.sqrt(MSE), MAE))"
   ]
  }
 ],
 "metadata": {
  "kernelspec": {
   "display_name": "Python 3",
   "language": "python",
   "name": "python3"
  },
  "language_info": {
   "codemirror_mode": {
    "name": "ipython",
    "version": 3
   },
   "file_extension": ".py",
   "mimetype": "text/x-python",
   "name": "python",
   "nbconvert_exporter": "python",
   "pygments_lexer": "ipython3",
   "version": "3.8.8"
  }
 },
 "nbformat": 4,
 "nbformat_minor": 5
}
