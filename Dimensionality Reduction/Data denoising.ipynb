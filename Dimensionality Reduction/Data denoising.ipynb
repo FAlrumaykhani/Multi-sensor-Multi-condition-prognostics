{
 "cells": [
  {
   "cell_type": "code",
   "execution_count": 1,
   "id": "cda859c3-de33-4266-8c29-b959387d8775",
   "metadata": {},
   "outputs": [],
   "source": [
    "import numpy as np\n",
    "import pandas as pd\n",
    "import matplotlib.pyplot as plt"
   ]
  },
  {
   "cell_type": "code",
   "execution_count": 2,
   "id": "723086c9-f321-4ce2-bbd6-d8543b50d79b",
   "metadata": {},
   "outputs": [],
   "source": [
    "# Reading the dataset\n",
    "data = np.loadtxt(r\"C:\\Users\\alrum\\Google Drive\\Projects\\Undergraduate Reseearch\\Multi-sensor Multi-condition prognostics\\Data\\train_FD002.txt\")"
   ]
  },
  {
   "cell_type": "code",
   "execution_count": 3,
   "id": "9b31becf-028a-4a9b-8def-61d793862ec1",
   "metadata": {},
   "outputs": [],
   "source": [
    "# Preparing the names of the columns\n",
    "\n",
    "sensor_col_name = [\"Sensor \"+str(i) for i in range(1,22)]\n",
    "\n",
    "col_name = [\"unit number\", \"time-cycles\", \"operational setting 1\", \"operational setting 2\",\n",
    "            \"operational setting 3\"] + sensor_col_name"
   ]
  },
  {
   "cell_type": "code",
   "execution_count": 4,
   "id": "e8ad6b0f-50d5-4f12-a307-0b2a7d80fa85",
   "metadata": {},
   "outputs": [],
   "source": [
    "# Converting the array to a dataframe\n",
    "\n",
    "df = pd.DataFrame(data= data, columns= col_name)"
   ]
  },
  {
   "cell_type": "code",
   "execution_count": 5,
   "id": "6eea7247-575b-4fdb-becb-5bac71fafcbb",
   "metadata": {},
   "outputs": [],
   "source": [
    "# Converting the column to the corect data type\n",
    "df[\"unit number\"] = df[\"unit number\"].apply(lambda x: int(x))"
   ]
  },
  {
   "cell_type": "code",
   "execution_count": 6,
   "id": "09478894-70c6-4aec-a769-9b09ee281438",
   "metadata": {},
   "outputs": [],
   "source": [
    "# A function that creates RUL column associated with each observation\n",
    "def create_RUL(df, unit_col, cycle_col, total_units):\n",
    "    \n",
    "    RUL_list = pd.Series(dtype=\"int64\")\n",
    "    for unit_i in range(1, total_units+1):\n",
    "       \n",
    "        df_subset = df[df[unit_col] == unit_i ]\n",
    "        max_cycle = max(df_subset[cycle_col])\n",
    "        \n",
    "        temp =  max_cycle - df_subset[cycle_col]\n",
    "        #print(type(temp))\n",
    "        #temp = pd.Series(temp)\n",
    "        RUL_list = RUL_list.append(temp)\n",
    "\n",
    "    \n",
    "    return RUL_list"
   ]
  },
  {
   "cell_type": "code",
   "execution_count": 7,
   "id": "d5a16243-5931-4447-ba52-3c9c6f67d3e7",
   "metadata": {},
   "outputs": [],
   "source": [
    "# Calling the function and adding the column to the dataframe\n",
    "RUL_series = create_RUL(df, unit_col=\"unit number\", cycle_col= \"time-cycles\", total_units=260)\n",
    "\n",
    "df[\"RUL\"] = RUL_series"
   ]
  },
  {
   "cell_type": "code",
   "execution_count": 8,
   "id": "126944b8-cc01-4eb2-b219-0346219ad2fb",
   "metadata": {},
   "outputs": [],
   "source": [
    "# Converting the column to the corect data type\n",
    "\n",
    "df[\"unit number\"] = df[\"unit number\"].apply(lambda x: int(x))\n",
    "\n",
    "df[\"time-cycles\"] = df[\"time-cycles\"].apply(lambda x: int(x))\n",
    "\n",
    "df[\"operational setting 3\"] = df[\"operational setting 3\"].apply(lambda x: int(x))\n",
    "\n",
    "df[\"RUL\"] = df[\"RUL\"].apply(lambda x: int(x))"
   ]
  },
  {
   "cell_type": "code",
   "execution_count": 9,
   "id": "e475edaf-954c-4eb8-b074-6e9b5a6dbf1a",
   "metadata": {},
   "outputs": [
    {
     "data": {
      "text/html": [
       "<div>\n",
       "<style scoped>\n",
       "    .dataframe tbody tr th:only-of-type {\n",
       "        vertical-align: middle;\n",
       "    }\n",
       "\n",
       "    .dataframe tbody tr th {\n",
       "        vertical-align: top;\n",
       "    }\n",
       "\n",
       "    .dataframe thead th {\n",
       "        text-align: right;\n",
       "    }\n",
       "</style>\n",
       "<table border=\"1\" class=\"dataframe\">\n",
       "  <thead>\n",
       "    <tr style=\"text-align: right;\">\n",
       "      <th></th>\n",
       "      <th>unit number</th>\n",
       "      <th>time-cycles</th>\n",
       "      <th>operational setting 1</th>\n",
       "      <th>operational setting 2</th>\n",
       "      <th>operational setting 3</th>\n",
       "      <th>Sensor 1</th>\n",
       "      <th>Sensor 2</th>\n",
       "      <th>Sensor 3</th>\n",
       "      <th>Sensor 4</th>\n",
       "      <th>Sensor 5</th>\n",
       "      <th>...</th>\n",
       "      <th>Sensor 13</th>\n",
       "      <th>Sensor 14</th>\n",
       "      <th>Sensor 15</th>\n",
       "      <th>Sensor 16</th>\n",
       "      <th>Sensor 17</th>\n",
       "      <th>Sensor 18</th>\n",
       "      <th>Sensor 19</th>\n",
       "      <th>Sensor 20</th>\n",
       "      <th>Sensor 21</th>\n",
       "      <th>RUL</th>\n",
       "    </tr>\n",
       "  </thead>\n",
       "  <tbody>\n",
       "    <tr>\n",
       "      <th>36930</th>\n",
       "      <td>177</td>\n",
       "      <td>159</td>\n",
       "      <td>24.9985</td>\n",
       "      <td>0.6200</td>\n",
       "      <td>60</td>\n",
       "      <td>462.54</td>\n",
       "      <td>537.24</td>\n",
       "      <td>1274.36</td>\n",
       "      <td>1062.45</td>\n",
       "      <td>7.05</td>\n",
       "      <td>...</td>\n",
       "      <td>2028.66</td>\n",
       "      <td>7894.68</td>\n",
       "      <td>10.9596</td>\n",
       "      <td>0.02</td>\n",
       "      <td>309.0</td>\n",
       "      <td>1915.0</td>\n",
       "      <td>84.93</td>\n",
       "      <td>14.13</td>\n",
       "      <td>8.4862</td>\n",
       "      <td>22</td>\n",
       "    </tr>\n",
       "    <tr>\n",
       "      <th>17431</th>\n",
       "      <td>88</td>\n",
       "      <td>23</td>\n",
       "      <td>20.0075</td>\n",
       "      <td>0.7000</td>\n",
       "      <td>100</td>\n",
       "      <td>491.19</td>\n",
       "      <td>606.49</td>\n",
       "      <td>1484.35</td>\n",
       "      <td>1245.56</td>\n",
       "      <td>9.35</td>\n",
       "      <td>...</td>\n",
       "      <td>2387.96</td>\n",
       "      <td>8062.43</td>\n",
       "      <td>9.1987</td>\n",
       "      <td>0.02</td>\n",
       "      <td>365.0</td>\n",
       "      <td>2324.0</td>\n",
       "      <td>100.00</td>\n",
       "      <td>24.66</td>\n",
       "      <td>14.8282</td>\n",
       "      <td>342</td>\n",
       "    </tr>\n",
       "    <tr>\n",
       "      <th>42810</th>\n",
       "      <td>207</td>\n",
       "      <td>42</td>\n",
       "      <td>42.0058</td>\n",
       "      <td>0.8404</td>\n",
       "      <td>100</td>\n",
       "      <td>445.00</td>\n",
       "      <td>549.43</td>\n",
       "      <td>1344.46</td>\n",
       "      <td>1125.23</td>\n",
       "      <td>3.91</td>\n",
       "      <td>...</td>\n",
       "      <td>2388.08</td>\n",
       "      <td>8086.95</td>\n",
       "      <td>9.3706</td>\n",
       "      <td>0.02</td>\n",
       "      <td>331.0</td>\n",
       "      <td>2212.0</td>\n",
       "      <td>100.00</td>\n",
       "      <td>10.67</td>\n",
       "      <td>6.3931</td>\n",
       "      <td>142</td>\n",
       "    </tr>\n",
       "  </tbody>\n",
       "</table>\n",
       "<p>3 rows × 27 columns</p>\n",
       "</div>"
      ],
      "text/plain": [
       "       unit number  time-cycles  operational setting 1  operational setting 2  \\\n",
       "36930          177          159                24.9985                 0.6200   \n",
       "17431           88           23                20.0075                 0.7000   \n",
       "42810          207           42                42.0058                 0.8404   \n",
       "\n",
       "       operational setting 3  Sensor 1  Sensor 2  Sensor 3  Sensor 4  \\\n",
       "36930                     60    462.54    537.24   1274.36   1062.45   \n",
       "17431                    100    491.19    606.49   1484.35   1245.56   \n",
       "42810                    100    445.00    549.43   1344.46   1125.23   \n",
       "\n",
       "       Sensor 5  ...  Sensor 13  Sensor 14  Sensor 15  Sensor 16  Sensor 17  \\\n",
       "36930      7.05  ...    2028.66    7894.68    10.9596       0.02      309.0   \n",
       "17431      9.35  ...    2387.96    8062.43     9.1987       0.02      365.0   \n",
       "42810      3.91  ...    2388.08    8086.95     9.3706       0.02      331.0   \n",
       "\n",
       "       Sensor 18  Sensor 19  Sensor 20  Sensor 21  RUL  \n",
       "36930     1915.0      84.93      14.13     8.4862   22  \n",
       "17431     2324.0     100.00      24.66    14.8282  342  \n",
       "42810     2212.0     100.00      10.67     6.3931  142  \n",
       "\n",
       "[3 rows x 27 columns]"
      ]
     },
     "execution_count": 9,
     "metadata": {},
     "output_type": "execute_result"
    }
   ],
   "source": [
    "df.sample(3)"
   ]
  },
  {
   "cell_type": "code",
   "execution_count": 10,
   "id": "2f11fc78-7be9-4344-908a-b843c07f4cb9",
   "metadata": {},
   "outputs": [],
   "source": [
    "X = df[['operational setting 1',\n",
    "       'operational setting 2', 'operational setting 3', 'Sensor 1',\n",
    "       'Sensor 2', 'Sensor 3', 'Sensor 4', 'Sensor 5', 'Sensor 6', 'Sensor 7',\n",
    "       'Sensor 8', 'Sensor 9', 'Sensor 10', 'Sensor 11', 'Sensor 12',\n",
    "       'Sensor 13', 'Sensor 14', 'Sensor 15', 'Sensor 16', 'Sensor 17',\n",
    "       'Sensor 18', 'Sensor 19', 'Sensor 20', 'Sensor 21',]]\n",
    "\n",
    "y = df[\"RUL\"]"
   ]
  },
  {
   "cell_type": "code",
   "execution_count": 11,
   "id": "8ac6d422-e4c9-4578-9717-c5043136a207",
   "metadata": {},
   "outputs": [
    {
     "name": "stdout",
     "output_type": "stream",
     "text": [
      "X shape : (53759, 24), y shape: (53759,)\n"
     ]
    }
   ],
   "source": [
    "print(\"X shape : {}, y shape: {}\".format(X.shape, y.shape))"
   ]
  },
  {
   "cell_type": "markdown",
   "id": "11acdf3d-2c1f-4699-b774-544c5b681288",
   "metadata": {},
   "source": [
    "## Test Train split"
   ]
  },
  {
   "cell_type": "code",
   "execution_count": 12,
   "id": "e1181f2f-cc8d-4174-a58d-4550d22a389d",
   "metadata": {},
   "outputs": [],
   "source": [
    "from sklearn.model_selection import train_test_split"
   ]
  },
  {
   "cell_type": "code",
   "execution_count": 13,
   "id": "03c49ec0-d045-4702-8f49-7708ceacbdfd",
   "metadata": {},
   "outputs": [],
   "source": [
    "X_train, X_test, y_train, y_test = train_test_split(X, y, test_size=0.33, random_state=42)"
   ]
  },
  {
   "cell_type": "markdown",
   "id": "42c77bb8-1629-49d2-aba4-24cf3b0dcdc0",
   "metadata": {},
   "source": [
    "# Dimensionality Reduction"
   ]
  },
  {
   "cell_type": "code",
   "execution_count": 14,
   "id": "8385fafe-2db2-4624-a147-033cd093a71b",
   "metadata": {},
   "outputs": [],
   "source": [
    "from sklearn.decomposition import PCA"
   ]
  },
  {
   "cell_type": "code",
   "execution_count": 15,
   "id": "1c4957cb-6796-4d50-8270-1e043f67eb77",
   "metadata": {},
   "outputs": [],
   "source": [
    "pca = PCA(n_components=5, random_state=42)\n",
    "X_train_5 = pca.fit_transform(X_train)\n",
    "X_test_5 = pca.transform(X_test)"
   ]
  },
  {
   "cell_type": "code",
   "execution_count": 16,
   "id": "f85cdaec-5513-481c-8e45-ad9950bf77c0",
   "metadata": {},
   "outputs": [
    {
     "name": "stdout",
     "output_type": "stream",
     "text": [
      "Variability explained in each component = [8.92760397e-01 1.01934065e-01 3.19222696e-03 1.54371091e-03\n",
      " 4.67677357e-04]\n",
      "The remaining 0.0001\n"
     ]
    }
   ],
   "source": [
    "var_expained = pca.explained_variance_ratio_\n",
    "print(\"Variability explained in each component = {}\".format(var_expained, 1-var_expained.sum()))\n",
    "print(\"The remaining {:.4f}\".format(1-var_expained.sum()))"
   ]
  },
  {
   "cell_type": "markdown",
   "id": "aea4512d-bf53-45c7-8e08-15bbcf3e82a5",
   "metadata": {},
   "source": [
    "# Testing the reduction using Random Forest regression"
   ]
  },
  {
   "cell_type": "code",
   "execution_count": 17,
   "id": "2459bb1e-ea28-494d-8c9f-0d90578a7b40",
   "metadata": {},
   "outputs": [],
   "source": [
    "from sklearn.ensemble import RandomForestRegressor\n",
    "from sklearn.metrics import mean_absolute_error\n",
    "\n",
    "def RF_reg(train_features, train_target, test_features, test_target):\n",
    "    rfr = RandomForestRegressor()\n",
    "    rfr.fit(train_features, train_target)\n",
    "    predicted_target = rfr.predict(test_features)\n",
    "    MAE = mean_absolute_error(test_target, predicted_target)\n",
    "    \n",
    "    return rfr, MAE"
   ]
  },
  {
   "cell_type": "markdown",
   "id": "43f24151-0fcb-4b43-be75-c351ee978c23",
   "metadata": {},
   "source": [
    "## The full data"
   ]
  },
  {
   "cell_type": "code",
   "execution_count": 18,
   "id": "38bb73b8-c1dc-4774-8f7b-9e43a762009e",
   "metadata": {},
   "outputs": [],
   "source": [
    "results = {}"
   ]
  },
  {
   "cell_type": "code",
   "execution_count": 19,
   "id": "83f50566-12d7-4382-88f3-ec81bf78c324",
   "metadata": {},
   "outputs": [],
   "source": [
    "RFr_full, MAE_full = RF_reg(X_train, y_train, X_test, y_test)"
   ]
  },
  {
   "cell_type": "code",
   "execution_count": 20,
   "id": "af9bb58d-5de5-4993-b342-92ca001b58b5",
   "metadata": {},
   "outputs": [
    {
     "name": "stdout",
     "output_type": "stream",
     "text": [
      "MAE = 31.6025\n"
     ]
    }
   ],
   "source": [
    "print(\"MAE = {:.4f}\".format(MAE_full))"
   ]
  },
  {
   "cell_type": "code",
   "execution_count": 21,
   "id": "d9b494a9-032f-4368-97bc-a94dbcdeeea7",
   "metadata": {},
   "outputs": [],
   "source": [
    "results[\"Full model\"] = MAE_full"
   ]
  },
  {
   "cell_type": "markdown",
   "id": "b79833c8-c628-4423-ab02-fea3503ff772",
   "metadata": {},
   "source": [
    "## 2-C data"
   ]
  },
  {
   "cell_type": "code",
   "execution_count": 22,
   "id": "c631f0fb-91a0-4413-a6f1-e63670c85bcf",
   "metadata": {},
   "outputs": [],
   "source": [
    "RFr_5c, MAE_5c = RF_reg(X_train_5, y_train, X_test_5, y_test)"
   ]
  },
  {
   "cell_type": "code",
   "execution_count": 23,
   "id": "0181f85c-ef88-4d3c-96f5-10ca6d56de31",
   "metadata": {},
   "outputs": [
    {
     "name": "stdout",
     "output_type": "stream",
     "text": [
      "MAE = 35.9258\n"
     ]
    }
   ],
   "source": [
    "print(\"MAE = {:.4f}\".format(MAE_5c))"
   ]
  },
  {
   "cell_type": "code",
   "execution_count": 24,
   "id": "ad65ae12-3f0c-4efb-8c41-6a3ce67c1889",
   "metadata": {},
   "outputs": [],
   "source": [
    "results[\"Regula PCA n_5\"] = MAE_5c"
   ]
  },
  {
   "cell_type": "markdown",
   "id": "1e2261fe-185a-48bb-a631-6edba6bd29cd",
   "metadata": {},
   "source": [
    "# Visualization of the variability"
   ]
  },
  {
   "cell_type": "code",
   "execution_count": 25,
   "id": "6e6fe7c5-b0da-4255-a115-b77ac216ccdf",
   "metadata": {},
   "outputs": [],
   "source": [
    "pca = PCA()\n",
    "pca.fit(X_train)\n",
    "cumsum = np.cumsum(pca.explained_variance_ratio_)\n",
    "d = np.argmax(cumsum >= 0.99999) + 1"
   ]
  },
  {
   "cell_type": "code",
   "execution_count": 26,
   "id": "4e1c5a65-b6aa-48bc-b995-07b9af679249",
   "metadata": {},
   "outputs": [
    {
     "data": {
      "image/png": "[encoded data removed]",
      "text/plain": [
       "<Figure size 720x432 with 1 Axes>"
      ]
     },
     "metadata": {},
     "output_type": "display_data"
    }
   ],
   "source": [
    "plt.style.use('ggplot')\n",
    "plt.figure(figsize=(10,6))\n",
    "plt.plot(cumsum)\n",
    "plt.xlabel(\"Dimensions\")\n",
    "plt.ylabel(\"Explained Variance\")\n",
    "plt.xticks(ticks= np.arange(0, 25, 1))\n",
    "plt.grid(True)\n",
    "plt.show()"
   ]
  },
  {
   "cell_type": "markdown",
   "id": "98f5b450-bbac-4d8c-86c8-5190aaa453fe",
   "metadata": {},
   "source": [
    "## Ploting the 2-d data"
   ]
  },
  {
   "cell_type": "raw",
   "id": "c97a6ecf-679d-407d-91fc-0db032dbffd4",
   "metadata": {},
   "source": [
    "plt.style.use('ggplot')\n",
    "plt.figure(figsize=(10,6))\n",
    "plt.scatter(X_train_2, y_train)\n",
    "plt.xlabel(\"C1\")\n",
    "plt.ylabel(\"C2\")\n",
    "#plt.xticks(ticks= np.arange(0, 25, 1))\n",
    "#plt.grid(True)\n",
    "plt.show()"
   ]
  },
  {
   "cell_type": "markdown",
   "id": "a256edfd-a859-4e7a-9f71-60c70597c84d",
   "metadata": {},
   "source": [
    "# Using PCA Kernel"
   ]
  },
  {
   "cell_type": "code",
   "execution_count": 27,
   "id": "9a7c4df2-f3c4-4086-9605-1962864343a3",
   "metadata": {},
   "outputs": [],
   "source": [
    "from sklearn.decomposition import KernelPCA"
   ]
  },
  {
   "cell_type": "code",
   "execution_count": 28,
   "id": "22a80762-2b93-4e94-a4b2-4a346146532b",
   "metadata": {},
   "outputs": [],
   "source": [
    "rbf_pca = KernelPCA(n_components=3, kernel=\"sigmoid\", gamma=0.2, random_state=42)\n",
    "X_train_3_kernel = pca.fit_transform(X_train)\n",
    "X_test_3_kernel = pca.transform(X_test)"
   ]
  },
  {
   "cell_type": "raw",
   "id": "0d4abc15-0ce9-48f3-b28c-879a422586b7",
   "metadata": {},
   "source": [
    "plt.style.use('ggplot')\n",
    "plt.figure(figsize=(10,6))\n",
    "plt.scatter(X_train_1_kernel, y_train)\n",
    "plt.xlabel(\"X\")\n",
    "plt.ylabel(\"y\")\n",
    "#plt.xticks(ticks= np.arange(0, 25, 1))\n",
    "#plt.grid(True)\n",
    "plt.show()"
   ]
  },
  {
   "cell_type": "markdown",
   "id": "2f643917-fb4e-4347-a494-63fe295bac70",
   "metadata": {},
   "source": [
    "## Testing with Random forest regression"
   ]
  },
  {
   "cell_type": "code",
   "execution_count": 29,
   "id": "1f447393-5364-49c2-b2ff-2bb86a4f1122",
   "metadata": {},
   "outputs": [],
   "source": [
    "RFr_Ker_1, MAE_Ker_1 = RF_reg(X_train_3_kernel, y_train, X_test_3_kernel, y_test)"
   ]
  },
  {
   "cell_type": "code",
   "execution_count": 30,
   "id": "fb7d9017-4f58-4f04-818d-e5eb27dc9c2e",
   "metadata": {},
   "outputs": [
    {
     "name": "stdout",
     "output_type": "stream",
     "text": [
      "MAE = 32.4407\n"
     ]
    }
   ],
   "source": [
    "print(\"MAE = {:.4f}\".format(MAE_Ker_1))"
   ]
  },
  {
   "cell_type": "code",
   "execution_count": 31,
   "id": "2d1ba418-02ec-4fb1-9523-f7aed15729bd",
   "metadata": {},
   "outputs": [],
   "source": [
    "results[\"un-tuned_kernel\"] = MAE_Ker_1"
   ]
  },
  {
   "cell_type": "markdown",
   "id": "82f409d8-639f-4bad-96ef-fd083c34290b",
   "metadata": {},
   "source": [
    "## Tuning PCA kernel"
   ]
  },
  {
   "cell_type": "code",
   "execution_count": 34,
   "id": "ac041173-c196-4237-b292-b23439bdd1d2",
   "metadata": {},
   "outputs": [],
   "source": [
    "from sklearn.model_selection import RandomizedSearchCV\n",
    "from sklearn.pipeline import Pipeline"
   ]
  },
  {
   "cell_type": "raw",
   "id": "07f7289c-bf2c-4129-bb29-29cc9c57a725",
   "metadata": {},
   "source": [
    "model.get_params().keys()"
   ]
  },
  {
   "cell_type": "code",
   "execution_count": 37,
   "id": "b1744f1a-3a0e-4402-8444-bde457552e7d",
   "metadata": {},
   "outputs": [],
   "source": [
    "model = Pipeline([\n",
    "                (\"kpca\", KernelPCA(n_components=5)),\n",
    "                (\"RFr\", RandomForestRegressor())\n",
    "                    ])\n",
    "\n",
    "param_grid = [{\n",
    "            \"kpca__gamma\" : np.linspace(0.03, 0.05, 10),\n",
    "            \"kpca__kernel\" : [\"rbf\", \"sigmoid\"]\n",
    "                }]"
   ]
  },
  {
   "cell_type": "code",
   "execution_count": 38,
   "id": "37df4fcd-5748-45f8-b271-b957bf0202f0",
   "metadata": {},
   "outputs": [],
   "source": [
    "grid_search = RandomizedSearchCV(model, param_grid, cv=3, random_state=42, n_iter=5)"
   ]
  },
  {
   "cell_type": "code",
   "execution_count": null,
   "id": "1ddba268-99ee-4345-bfb6-a4f8a22e8fd2",
   "metadata": {},
   "outputs": [],
   "source": [
    "grid_search.fit(X_train, y_train)"
   ]
  },
  {
   "cell_type": "markdown",
   "id": "cd803a24-a454-4be9-9454-38e78eef6664",
   "metadata": {},
   "source": [
    "# The results"
   ]
  },
  {
   "cell_type": "code",
   "execution_count": 117,
   "id": "23b9c7ca-2dab-400d-94be-a191626eecd7",
   "metadata": {},
   "outputs": [
    {
     "data": {
      "text/html": [
       "<div>\n",
       "<style scoped>\n",
       "    .dataframe tbody tr th:only-of-type {\n",
       "        vertical-align: middle;\n",
       "    }\n",
       "\n",
       "    .dataframe tbody tr th {\n",
       "        vertical-align: top;\n",
       "    }\n",
       "\n",
       "    .dataframe thead th {\n",
       "        text-align: right;\n",
       "    }\n",
       "</style>\n",
       "<table border=\"1\" class=\"dataframe\">\n",
       "  <thead>\n",
       "    <tr style=\"text-align: right;\">\n",
       "      <th></th>\n",
       "      <th>Mean absolute error [RUL]</th>\n",
       "    </tr>\n",
       "  </thead>\n",
       "  <tbody>\n",
       "    <tr>\n",
       "      <th>Full model</th>\n",
       "      <td>31.544041</td>\n",
       "    </tr>\n",
       "    <tr>\n",
       "      <th>Regula PCA n_5</th>\n",
       "      <td>57.099486</td>\n",
       "    </tr>\n",
       "    <tr>\n",
       "      <th>un-tuned_kernel</th>\n",
       "      <td>57.160068</td>\n",
       "    </tr>\n",
       "  </tbody>\n",
       "</table>\n",
       "</div>"
      ],
      "text/plain": [
       "                 Mean absolute error [RUL]\n",
       "Full model                       31.544041\n",
       "Regula PCA n_5                   57.099486\n",
       "un-tuned_kernel                  57.160068"
      ]
     },
     "execution_count": 117,
     "metadata": {},
     "output_type": "execute_result"
    }
   ],
   "source": [
    "pd.DataFrame(results ,index=['Mean absolute error [RUL]']).T"
   ]
  }
 ],
 "metadata": {
  "kernelspec": {
   "display_name": "Python 3",
   "language": "python",
   "name": "python3"
  },
  "language_info": {
   "codemirror_mode": {
    "name": "ipython",
    "version": 3
   },
   "file_extension": ".py",
   "mimetype": "text/x-python",
   "name": "python",
   "nbconvert_exporter": "python",
   "pygments_lexer": "ipython3",
   "version": "3.8.8"
  }
 },
 "nbformat": 4,
 "nbformat_minor": 5
}
